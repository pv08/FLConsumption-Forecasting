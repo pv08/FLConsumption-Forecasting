{
 "cells": [
  {
   "cell_type": "code",
   "execution_count": 1,
   "id": "0e49463f-32c2-4efa-875b-39f3aaee53b7",
   "metadata": {},
   "outputs": [],
   "source": [
    "import json\n",
    "import numpy as np\n",
    "import matplotlib.pyplot as plt\n",
    "import torch as T\n",
    "import flwr as fl\n",
    "from src.models.cnn import CNN\n",
    "from src.data import TimeSeriesLoader\n",
    "from src.utils.functions import plot_test_prediction"
   ]
  },
  {
   "cell_type": "code",
   "execution_count": 2,
   "id": "e9fe4d49-d504-4ec1-89a6-b8c029ac86d8",
   "metadata": {},
   "outputs": [],
   "source": [
    "with open('etc/results/cnn/global_test_metrics.json', 'r') as file:\n",
    "    global_test_metrics = json.load(file)\n",
    "    file.close()"
   ]
  },
  {
   "cell_type": "code",
   "execution_count": 3,
   "id": "2f2fd15f-1139-4760-ba39-c7b13a9f9e03",
   "metadata": {},
   "outputs": [
    {
     "data": {
      "text/plain": [
       "[0.022307202996065218,\n",
       " 0.023804675942907732,\n",
       " 0.023903574018428724,\n",
       " 2143.3494057010394,\n",
       " 2148.9720710262877,\n",
       " 2122.2640813489757,\n",
       " 0.014544018544256687,\n",
       " 0.01080262086664637,\n",
       " 0.015220403671264648,\n",
       " 0.011466750637330908]"
      ]
     },
     "execution_count": 3,
     "metadata": {},
     "output_type": "execute_result"
    }
   ],
   "source": [
    "values = global_test_metrics['mse']"
   ]
  },
  {
   "cell_type": "code",
   "execution_count": null,
   "id": "3727c199-f310-4508-b2ed-832a977155f0",
   "metadata": {},
   "outputs": [],
   "source": [
    "# global_test_losses(global_test_losses)\n",
    "plt.title(f'Loss per round')\n",
    "plt.plot(global_test_metrics['mse'], marker='^')\n",
    "plt.xlabel('Round')\n",
    "plt.ylabel('Loss')\n",
    "plt.show()\n"
   ]
  },
  {
   "cell_type": "code",
   "execution_count": null,
   "id": "7495333a-e2e9-4836-8b75-b46df2ffdfa9",
   "metadata": {},
   "outputs": [],
   "source": [
    "with open('etc/results/cnn/global_test_metrics.json', 'r') as file:\n",
    "    global_test_metrics = json.load(file)"
   ]
  },
  {
   "cell_type": "code",
   "execution_count": null,
   "id": "e9cc194a-b599-41bf-bd44-e5f141006ed7",
   "metadata": {},
   "outputs": [],
   "source": [
    "global_test_metrics['mse']"
   ]
  },
  {
   "cell_type": "code",
   "execution_count": null,
   "id": "55d39a16-fea5-4ed4-9f0e-d1856cdc353f",
   "metadata": {},
   "outputs": [],
   "source": [
    "plt.title('MSE with flower')\n",
    "plt.plot(global_test_metrics['mse'], marker='^')\n",
    "plt.xlabel('Round')\n",
    "plt.ylabel('Error')\n",
    "plt.show()\n",
    "\n"
   ]
  },
  {
   "cell_type": "code",
   "execution_count": null,
   "id": "6c724e36-1370-452d-9c73-5c7387a5c2ed",
   "metadata": {},
   "outputs": [],
   "source": [
    "# plot_global_metrics(global_test_metrics)\n",
    "for metric, value in global_test_metrics.items():\n",
    "    plt.title(f'{metric} evaluation per round')\n",
    "    plt.plot(value, marker='^')\n",
    "    plt.xlabel('Round')\n",
    "    plt.ylabel('Error')\n",
    "    plt.show()\n"
   ]
  },
  {
   "cell_type": "code",
   "execution_count": 8,
   "id": "0ec5af18-dc9f-4c83-9798-63e221efc217",
   "metadata": {},
   "outputs": [],
   "source": [
    "with open('etc/results/local_test_metrics.json', 'r') as file:\n",
    "    local_test_metrics = json.load(file)"
   ]
  },
  {
   "cell_type": "code",
   "execution_count": 22,
   "id": "6fc4136d-f50f-4875-b4fb-b4dd925dcd48",
   "metadata": {},
   "outputs": [],
   "source": []
  },
  {
   "cell_type": "code",
   "execution_count": 31,
   "id": "6f274340-8619-4547-898f-6b10d6a5fd05",
   "metadata": {},
   "outputs": [
    {
     "data": {
      "text/plain": [
       "['10',\n",
       " '6',\n",
       " '8',\n",
       " '8',\n",
       " '7',\n",
       " '9',\n",
       " '8',\n",
       " '4',\n",
       " '6',\n",
       " '10',\n",
       " '10',\n",
       " '4',\n",
       " '5',\n",
       " '6',\n",
       " '9',\n",
       " '8',\n",
       " '9',\n",
       " '10',\n",
       " '9',\n",
       " '10',\n",
       " '9',\n",
       " '7',\n",
       " '9',\n",
       " '10']"
      ]
     },
     "execution_count": 31,
     "metadata": {},
     "output_type": "execute_result"
    }
   ],
   "source": [
    "\n",
    "round"
   ]
  },
  {
   "cell_type": "code",
   "execution_count": 18,
   "id": "dcaa368b-7c70-42db-8e47-3fbbf89af20d",
   "metadata": {},
   "outputs": [
    {
     "data": {
      "text/plain": [
       "{'9922': {'10': {'MSE': 0.002449731808155775,\n",
       "   'RMSE': 0.04949476546217565,\n",
       "   'MAE': 0.030170006677508354,\n",
       "   'R^2': 0.5474075182831335,\n",
       "   'NRMSE': 0.3808374573476656}},\n",
       " '7536': {'6': {'MSE': 0.002751191845163703,\n",
       "   'RMSE': 0.05245180497526947,\n",
       "   'MAE': 0.03374278172850609,\n",
       "   'R^2': 0.4584323098475739,\n",
       "   'NRMSE': 0.23147483119441867}},\n",
       " '2335': {'8': {'MSE': 0.0026400682982057333,\n",
       "   'RMSE': 0.05138159493637516,\n",
       "   'MAE': 0.03294844552874565,\n",
       "   'R^2': 0.6153754205485125,\n",
       "   'NRMSE': 0.24060932639350238}},\n",
       " '4373': {'8': {'MSE': 0.003923260606825352,\n",
       "   'RMSE': 0.06263593702360772,\n",
       "   'MAE': 0.03983307257294655,\n",
       "   'R^2': 0.7374370561092689,\n",
       "   'NRMSE': 0.26169456645912037}},\n",
       " '7901': {'7': {'MSE': 0.002623314503580332,\n",
       "   'RMSE': 0.05121830242774873,\n",
       "   'MAE': 0.02744223177433014,\n",
       "   'R^2': 0.3255557012312372,\n",
       "   'NRMSE': 0.6791865360884632}},\n",
       " '7800': {'9': {'MSE': 0.003486265428364277,\n",
       "   'RMSE': 0.059044605412893365,\n",
       "   'MAE': 0.04139520972967148,\n",
       "   'R^2': 0.5715238564753232,\n",
       "   'NRMSE': 0.2079322484238285}},\n",
       " '661': {'8': {'MSE': 0.0034740157425403595,\n",
       "   'RMSE': 0.05894078165871538,\n",
       "   'MAE': 0.036339156329631805,\n",
       "   'R^2': 0.7663687456943807,\n",
       "   'NRMSE': 0.21503226805345332}},\n",
       " '4767': {'4': {'MSE': 0.0017077915836125612,\n",
       "   'RMSE': 0.04132543506864218,\n",
       "   'MAE': 0.024045605212450027,\n",
       "   'R^2': 0.8532367745027162,\n",
       "   'NRMSE': 0.26157195034225483}},\n",
       " '6139': {'6': {'MSE': 0.0022320242132991552,\n",
       "   'RMSE': 0.0472443035010482,\n",
       "   'MAE': 0.030984265729784966,\n",
       "   'R^2': 0.5063987171640993,\n",
       "   'NRMSE': 0.340228980989373}},\n",
       " '8156': {'10': {'MSE': 0.0021822419948875904,\n",
       "   'RMSE': 0.0467144730772765,\n",
       "   'MAE': 0.029571887105703354,\n",
       "   'R^2': 0.7710126846080452,\n",
       "   'NRMSE': 0.24514553842233103}},\n",
       " '3538': {'10': {'MSE': 0.0022954815067350864,\n",
       "   'RMSE': 0.04791118352467497,\n",
       "   'MAE': 0.03459716588258743,\n",
       "   'R^2': 0.6589724779197097,\n",
       "   'NRMSE': 0.14769290544705568}},\n",
       " '3039': {'4': {'MSE': 0.004054106771945953,\n",
       "   'RMSE': 0.0636718679790844,\n",
       "   'MAE': 0.04172432795166969,\n",
       "   'R^2': 0.618856998040623,\n",
       "   'NRMSE': 0.25089571584994463}},\n",
       " '9278': {'5': {'MSE': 0.00213225232437253,\n",
       "   'RMSE': 0.04617631778707057,\n",
       "   'MAE': 0.025957634672522545,\n",
       "   'R^2': 0.643249044146121,\n",
       "   'NRMSE': 0.274451291009915}},\n",
       " '2818': {'6': {'MSE': 0.001404683687724173,\n",
       "   'RMSE': 0.03747911001777087,\n",
       "   'MAE': 0.027516596019268036,\n",
       "   'R^2': 0.6732573058039679,\n",
       "   'NRMSE': 0.15667493840741126}},\n",
       " '8386': {'9': {'MSE': 0.0021283484529703856,\n",
       "   'RMSE': 0.0461340270621413,\n",
       "   'MAE': 0.029631078243255615,\n",
       "   'R^2': 0.4693371758653221,\n",
       "   'NRMSE': 0.7228727418876936}},\n",
       " '7951': {'8': {'MSE': 0.011919324286282063,\n",
       "   'RMSE': 0.1091756579383979,\n",
       "   'MAE': 0.06378164887428284,\n",
       "   'R^2': 0.034001233501379846,\n",
       "   'NRMSE': 1.7830118870710245}},\n",
       " '9160': {'9': {'MSE': 0.0011153897503390908,\n",
       "   'RMSE': 0.03339745125513459,\n",
       "   'MAE': 0.025260070338845253,\n",
       "   'R^2': 0.6061906668322543,\n",
       "   'NRMSE': 0.08213293974139269}},\n",
       " '2361': {'10': {'MSE': 0.0017875733319669962,\n",
       "   'RMSE': 0.04227970354634711,\n",
       "   'MAE': 0.0280239786952734,\n",
       "   'R^2': 0.6457759125484872,\n",
       "   'NRMSE': 0.21578079406194084}},\n",
       " '9019': {'9': {'MSE': 3.4050883641612018e-06,\n",
       "   'RMSE': 0.001845288152067639,\n",
       "   'MAE': 0.001264230697415769,\n",
       "   'R^2': -60935.619645775,\n",
       "   'NRMSE': 0.0027975185615677794}},\n",
       " '5746': {'10': {'MSE': 0.001092785270884633,\n",
       "   'RMSE': 0.033057302837416015,\n",
       "   'MAE': 0.02379416860640049,\n",
       "   'R^2': 0.18946693621411403,\n",
       "   'NRMSE': 0.39054119947520877}},\n",
       " '8565': {'9': {'MSE': 0.004346217028796673,\n",
       "   'RMSE': 0.06592584492288796,\n",
       "   'MAE': 0.03918375447392464,\n",
       "   'R^2': 0.5539058967457757,\n",
       "   'NRMSE': 0.6101751931226096}},\n",
       " '7719': {'7': {'MSE': 0.003571796929463744,\n",
       "   'RMSE': 0.059764512291691496,\n",
       "   'MAE': 0.0427112877368927,\n",
       "   'R^2': 0.5224493506475318,\n",
       "   'NRMSE': 0.22888110864076697}},\n",
       " '1642': {'9': {'MSE': 0.002898453501984477,\n",
       "   'RMSE': 0.053837287282927596,\n",
       "   'MAE': 0.03184543922543526,\n",
       "   'R^2': 0.7538528899055018,\n",
       "   'NRMSE': 0.22955438310860413}},\n",
       " '4031': {'10': {'MSE': 0.002219879999756813,\n",
       "   'RMSE': 0.04711560250868934,\n",
       "   'MAE': 0.026669597253203392,\n",
       "   'R^2': 0.7169125120821904,\n",
       "   'NRMSE': 0.18939685138506235}}}"
      ]
     },
     "execution_count": 18,
     "metadata": {},
     "output_type": "execute_result"
    }
   ],
   "source": [
    "local_test_metrics"
   ]
  },
  {
   "cell_type": "code",
   "execution_count": 10,
   "id": "7ae87145-033a-4063-a679-5a5e16061218",
   "metadata": {},
   "outputs": [
    {
     "name": "stdout",
     "output_type": "stream",
     "text": [
      "['10'] [0.002449731808155775]\n",
      "['6'] [0.002751191845163703]\n",
      "['8'] [0.0026400682982057333]\n",
      "['8'] [0.003923260606825352]\n",
      "['7'] [0.002623314503580332]\n",
      "['9'] [0.003486265428364277]\n",
      "['8'] [0.0034740157425403595]\n",
      "['4'] [0.0017077915836125612]\n",
      "['6'] [0.0022320242132991552]\n",
      "['10'] [0.0021822419948875904]\n",
      "['10'] [0.0022954815067350864]\n",
      "['4'] [0.004054106771945953]\n",
      "['5'] [0.00213225232437253]\n",
      "['6'] [0.001404683687724173]\n",
      "['9'] [0.0021283484529703856]\n",
      "['8'] [0.011919324286282063]\n",
      "['9'] [0.0011153897503390908]\n",
      "['10'] [0.0017875733319669962]\n",
      "['9'] [3.4050883641612018e-06]\n",
      "['10'] [0.001092785270884633]\n",
      "['9'] [0.004346217028796673]\n",
      "['7'] [0.003571796929463744]\n",
      "['9'] [0.002898453501984477]\n",
      "['10'] [0.002219879999756813]\n"
     ]
    }
   ],
   "source": [
    "local_test_metrics\n",
    "for cid, rounds in local_test_metrics.items():\n",
    "    round = [round for round in rounds.keys()]\n",
    "    mse_value = [metrics['MSE'] for round, metrics in rounds.items()]\n",
    "    print(round, mse_value)"
   ]
  },
  {
   "cell_type": "code",
   "execution_count": 10,
   "id": "87b47e17-d9a6-4ef8-9076-ad57309e817f",
   "metadata": {},
   "outputs": [],
   "source": [
    "model = model = CNN(device='cuda', num_features=9, lags=10, exogenous_dim=0, out_dim=1)\n",
    "state_dict = T.load('model_round_10.pth')\n",
    "model.load_state_dict(state_dict)\n",
    "state_dict_ndarrays = [v.cpu().numpy() for v in model.state_dict().values()]\n",
    "parameters = fl.common.ndarrays_to_parameters(state_dict_ndarrays)"
   ]
  },
  {
   "cell_type": "code",
   "execution_count": 13,
   "id": "3013f4cf-da89-40e5-a14c-4a64a56972a4",
   "metadata": {},
   "outputs": [],
   "source": [
    "cids = [1642, 2335, 2361, 2818, 3039, 3456, 3538, 4031, 4373, 4767, 5746, 6139, 661, 7536, 7719, 7800, 7901, 7951, 8156, 8386, 8565, 9019, 9160, 9278, 9922]"
   ]
  },
  {
   "cell_type": "code",
   "execution_count": 16,
   "id": "2867e545-af46-428e-8374-1618a0702317",
   "metadata": {},
   "outputs": [
    {
     "ename": "NameError",
     "evalue": "name 'args' is not defined",
     "output_type": "error",
     "traceback": [
      "\u001b[1;31m---------------------------------------------------------------------------\u001b[0m",
      "\u001b[1;31mNameError\u001b[0m                                 Traceback (most recent call last)",
      "Cell \u001b[1;32mIn[16], line 3\u001b[0m\n\u001b[0;32m      1\u001b[0m \u001b[38;5;28;01mfrom\u001b[39;00m \u001b[38;5;21;01msrc\u001b[39;00m\u001b[38;5;21;01m.\u001b[39;00m\u001b[38;5;21;01mdataset\u001b[39;00m\u001b[38;5;21;01m.\u001b[39;00m\u001b[38;5;21;01mprocessing\u001b[39;00m \u001b[38;5;28;01mimport\u001b[39;00m Processsing\n\u001b[0;32m      2\u001b[0m \u001b[38;5;28;01mfrom\u001b[39;00m \u001b[38;5;21;01margparse\u001b[39;00m \u001b[38;5;28;01mimport\u001b[39;00m ArgumentParser\n\u001b[1;32m----> 3\u001b[0m processing \u001b[38;5;241m=\u001b[39m Processsing(args\u001b[38;5;241m=\u001b[39m\u001b[43margs\u001b[49m, data_path\u001b[38;5;241m=\u001b[39m\u001b[38;5;124m'\u001b[39m\u001b[38;5;124mdataset/pecanstreet/15min/\u001b[39m\u001b[38;5;124m'\u001b[39m)\n\u001b[0;32m      4\u001b[0m parser \u001b[38;5;241m=\u001b[39m ArgumentParser(description\u001b[38;5;241m=\u001b[39m\u001b[38;5;124m'\u001b[39m\u001b[38;5;124m[Pecan Street Dataport] Forecasting the energy consumption of Pecan Street\u001b[39m\u001b[38;5;124m'\u001b[39m)\n\u001b[0;32m      5\u001b[0m parser\u001b[38;5;241m.\u001b[39madd_argument(\u001b[38;5;124m\"\u001b[39m\u001b[38;5;124m--data_path\u001b[39m\u001b[38;5;124m\"\u001b[39m, \u001b[38;5;28mtype\u001b[39m\u001b[38;5;241m=\u001b[39m\u001b[38;5;28mstr\u001b[39m, default\u001b[38;5;241m=\u001b[39m\u001b[38;5;124m'\u001b[39m\u001b[38;5;124mdataset/pecanstreet/15min/\u001b[39m\u001b[38;5;124m'\u001b[39m)\n",
      "\u001b[1;31mNameError\u001b[0m: name 'args' is not defined"
     ]
    }
   ],
   "source": [
    "from src.dataset.processing import Processsing\n",
    "from argparse import ArgumentParser\n",
    "processing = Processsing(args=args, data_path='dataset/pecanstreet/15min/')\n",
    "parser = ArgumentParser(description='[Pecan Street Dataport] Forecasting the energy consumption of Pecan Street')\n",
    "parser.add_argument(\"--data_path\", type=str, default='dataset/pecanstreet/15min/')\n",
    "# parser.add_argument(\"--data_path_test\", type=list, default=['dataset/ElBorn_test.csv'])\n",
    "parser.add_argument(\"--test_size\", type=float, default=0.2)\n",
    "parser.add_argument(\"--targets\", type=list, default=['consumption'])  # index 0\n",
    "parser.add_argument(\"--num_lags\", type=int, default=10)\n",
    "\n",
    "parser.add_argument(\"--filter_bs\", type=int, default=0)\n",
    "parser.add_argument(\"--identifier\", type=str, default='cid')\n",
    "\n",
    "parser.add_argument(\"--nan_constant\", type=int, default=0)\n",
    "parser.add_argument(\"--x_scaler\", type=str, default='minmax')\n",
    "parser.add_argument(\"--y_scaler\", type=str, default='minmax')\n",
    "parser.add_argument(\"--outlier_detection\", type=any, default=None)\n",
    "\n",
    "parser.add_argument(\"--criterion\", type=str, default='mse')\n",
    "parser.add_argument(\"--fl_rounds\", type=int, default=10)\n",
    "parser.add_argument(\"--fraction\", type=float, default=.25)\n",
    "parser.add_argument(\"--aggregation\", type=str, default=\"fedavg\")\n",
    "parser.add_argument(\"--model_name\", type=str, default='cnn',\n",
    "                    help='[\"mlp\", \"rnn\" ,\"lstm\", \"gru\", \"cnn\", \"da_encoder_decoder\"]')\n",
    "parser.add_argument(\"--epochs\", type=int, default=150)\n",
    "parser.add_argument(\"--lr\", type=float, default=0.001)\n",
    "parser.add_argument(\"--optimizer\", type=str, default='adam')\n",
    "parser.add_argument(\"--batch_size\", type=int, default=128)\n",
    "parser.add_argument(\"--early_stopping\", type=bool, default=False)\n",
    "parser.add_argument(\"--patience\", type=int, default=50)\n",
    "parser.add_argument(\"--max_grad_norm\", type=float, default=0.0)\n",
    "parser.add_argument(\"--reg1\", type=float, default=0.0)  # l1 regularization\n",
    "parser.add_argument(\"--reg2\", type=float, default=0.0)  # l2 regularization\n",
    "\n",
    "parser.add_argument(\"--cuda\", type=bool, default=T.cuda.is_available())\n",
    "parser.add_argument(\"--seed\", type=int, default=0)\n",
    "\n",
    "parser.add_argument(\"--assign_stats\", type=any,\n",
    "                    default=None)  # whether to use statistics as exogenous data, [\"mean\", \"median\", \"std\", \"variance\", \"kurtosis\", \"skew\"]\n",
    "parser.add_argument(\"--use_time_features\", type=bool, default=False)  # whether to use datetime features\n",
    "args = parser.parse_args()\n",
    "args.device = T.device('cuda' if T.cuda.is_available() else 'cpu')\n",
    "processing = Processsing(args=args, data_path=args.data_path)\n",
    "X_train, X_val, X_test, y_train, y_val, y_test, exogenous_data_train, exogenous_data_val, x_scaler, y_scaler = processing.make_preprocessing(\n",
    "    per_area=True)\n",
    "\n",
    "X_train, X_val, X_test, y_train, y_val, y_test, client_X_train, client_X_val, client_X_test, client_y_train, client_y_val, client_y_test, _, _ = (\n",
    "    processing.make_postprocessing(X_train, X_val, X_test, y_train, y_val, y_test, exogenous_data_train,\n",
    "                                   exogenous_data_val, x_scaler, y_scaler))\n"
   ]
  },
  {
   "cell_type": "code",
   "execution_count": 14,
   "id": "369b193b-8ebf-4b61-be54-00a7d4f6b8bb",
   "metadata": {},
   "outputs": [
    {
     "ename": "NameError",
     "evalue": "name 'client_X_test' is not defined",
     "output_type": "error",
     "traceback": [
      "\u001b[1;31m---------------------------------------------------------------------------\u001b[0m",
      "\u001b[1;31mNameError\u001b[0m                                 Traceback (most recent call last)",
      "Cell \u001b[1;32mIn[14], line 3\u001b[0m\n\u001b[0;32m      1\u001b[0m evaluate_metrics \u001b[38;5;241m=\u001b[39m []\n\u001b[0;32m      2\u001b[0m \u001b[38;5;28;01mfor\u001b[39;00m client \u001b[38;5;129;01min\u001b[39;00m cids:\n\u001b[1;32m----> 3\u001b[0m     num_features \u001b[38;5;241m=\u001b[39m \u001b[38;5;28mlen\u001b[39m(\u001b[43mclient_X_test\u001b[49m[client][\u001b[38;5;241m0\u001b[39m][\u001b[38;5;241m0\u001b[39m])\n\u001b[0;32m      4\u001b[0m     test_loader \u001b[38;5;241m=\u001b[39m TimeSeriesLoader(X\u001b[38;5;241m=\u001b[39mclient_X_test[client],\n\u001b[0;32m      5\u001b[0m                                    y\u001b[38;5;241m=\u001b[39mclient_y_test[client],\n\u001b[0;32m      6\u001b[0m                                    num_lags\u001b[38;5;241m=\u001b[39margs\u001b[38;5;241m.\u001b[39mnum_lags,\n\u001b[0;32m      7\u001b[0m                                    num_features\u001b[38;5;241m=\u001b[39mnum_features, exogenous_data\u001b[38;5;241m=\u001b[39m\u001b[38;5;28;01mNone\u001b[39;00m,\n\u001b[0;32m      8\u001b[0m                                    indices\u001b[38;5;241m=\u001b[39m[\u001b[38;5;241m0\u001b[39m], batch_size\u001b[38;5;241m=\u001b[39m\u001b[38;5;241m1\u001b[39m, shuffle\u001b[38;5;241m=\u001b[39m\u001b[38;5;28;01mFalse\u001b[39;00m, cid\u001b[38;5;241m=\u001b[39mclient)\u001b[38;5;241m.\u001b[39mget_dataloader()\n\u001b[0;32m      9\u001b[0m     test_mse, test_rmse, test_mae, test_r2, test_nrmse, test_pinball, y_pred_test \u001b[38;5;241m=\u001b[39m Trainers(args\u001b[38;5;241m=\u001b[39margs)\u001b[38;5;241m.\u001b[39mtest(\n\u001b[0;32m     10\u001b[0m         global_model, test_loader, \u001b[38;5;28;01mNone\u001b[39;00m, device\u001b[38;5;241m=\u001b[39margs\u001b[38;5;241m.\u001b[39mdevice\n\u001b[0;32m     11\u001b[0m     )\n",
      "\u001b[1;31mNameError\u001b[0m: name 'client_X_test' is not defined"
     ]
    }
   ],
   "source": [
    "evaluate_metrics = []\n",
    "for client in cids:\n",
    "    num_features = 9\n",
    "    test_loader = TimeSeriesLoader(X=client_X_test[client],\n",
    "                                   y=client_y_test[client],\n",
    "                                   num_lags=args.num_lags,\n",
    "                                   num_features=num_features, exogenous_data=None,\n",
    "                                   indices=[0], batch_size=1, shuffle=False, cid=client).get_dataloader()\n",
    "    test_mse, test_rmse, test_mae, test_r2, test_nrmse, test_pinball, y_pred_test = Trainers(args=args).test(\n",
    "        global_model, test_loader, None, device=args.device\n",
    "    )\n",
    "    evaluate_metrics.append({'cid': client, 'mse': test_mse, 'mae': test_mae, 'r2': test_r2, 'pinball': test_pinball})\n",
    "    log(INFO, f\"Client: {client} | MSE: {test_mse} | MAE: {test_mae} | pinball loss: {test_pinball}\")\n",
    "    plot_test_prediction(y_true=client_y_test[client], y_pred=y_pred_test, cid=client, model_name=args.model_name)\n",
    "evaluate_metrics_df = pd.DataFrame(evaluate_metrics)\n",
    "evaluate_metrics_df.to_csv('etc/results/eval_metrics.csv')"
   ]
  },
  {
   "cell_type": "code",
   "execution_count": null,
   "id": "0fc582d6-766f-44cb-9ab2-fcde4ccb993b",
   "metadata": {},
   "outputs": [],
   "source": []
  }
 ],
 "metadata": {
  "kernelspec": {
   "display_name": "Python 3 (ipykernel)",
   "language": "python",
   "name": "python3"
  },
  "language_info": {
   "codemirror_mode": {
    "name": "ipython",
    "version": 3
   },
   "file_extension": ".py",
   "mimetype": "text/x-python",
   "name": "python",
   "nbconvert_exporter": "python",
   "pygments_lexer": "ipython3",
   "version": "3.8.18"
  }
 },
 "nbformat": 4,
 "nbformat_minor": 5
}
